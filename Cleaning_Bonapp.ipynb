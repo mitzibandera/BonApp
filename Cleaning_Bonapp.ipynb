{
 "cells": [
  {
   "cell_type": "markdown",
   "metadata": {},
   "source": [
    "# Import Data"
   ]
  },
  {
   "cell_type": "code",
   "execution_count": 15,
   "metadata": {},
   "outputs": [],
   "source": [
    "import pandas as pd\n",
    "import numpy as np\n",
    "from itertools import chain\n",
    "import seaborn as sns\n",
    "import re\n",
    "from matplotlib import pyplot as plt\n",
    "plt.style.use('ggplot')"
   ]
  },
  {
   "cell_type": "code",
   "execution_count": 16,
   "metadata": {},
   "outputs": [],
   "source": [
    "badata = pd.read_csv('new_bonapp.csv')\n",
    "badata['published'] = pd.to_datetime(badata['published'])\n",
    "badata[\"ingredients\"] = badata[\"ingredients\"].apply(lambda x: x.split(','))"
   ]
  },
  {
   "cell_type": "markdown",
   "metadata": {},
   "source": [
    "## Clean Ingredients\n",
    "**This cleans various names for the same ingredient**"
   ]
  },
  {
   "cell_type": "code",
   "execution_count": 17,
   "metadata": {},
   "outputs": [],
   "source": [
    "def washIngredients(recipe):\n",
    "    trimmed_lines = [ingred.lower() for ingred in recipe if not re.search('^preferably |^cut on |^be found |^into |^like |^on the |^ ?and/?o?r? |^lightly .* with .*a|^soaked|^thinly |^halved|^shaved for|^shaved into|^shaved with|^split|^sliced .*into|^sliced.*thick|^beaten |ground$|boneless$|^broken into|room temperature$|^cut into|^plus more ?f?o?r? ?.*|ed$', ingred)]\n",
    "    removed_num = [re.sub('\\.|\\W+-|\\W+—|\\W+–|\\d+-|\\*|\"|”|;.*| \\(.*\\)|\\(|\\)|½|¾|¼|⅓|⅔|⅛', '', ele) for ele in trimmed_lines]\n",
    "    removed_kitchen_words = [re.sub('coarsely |is avail.*|are avail.*|knob of | a mix of .*|^firm but |^firmly packed| slices| spears|^shredded |^torn|^and |granulated |^roasted |^asian$|fresh |leaves|skinless|cloves?|slices?d? |with .*stems|chilled |chopped |online|finely |grated |freshly |peeled |sprigs |pestle|such as .*|other |bar spoon |thinly |finely chopped|low.?sodium ', '', ele) for ele in removed_num]\n",
    "    removed_measurements = [re.sub('\\d+|tbsp |cups? |oz |bottle |light |envelope |packages? |found in.*|bunch |online|small |medium |large |pinch of | cans? |pints? | ?inch pieces? |inch.*thick| lengthwise|dashes |^plus |tbsp. |oz. |teaspoons? |tsp |tablespoons? |ounces? |pounds? |^ |^\\n', '', ele) for ele in removed_kitchen_words]\n",
    "    removed_num = [re.sub('\\.|\\W+-|\\W+—|\\W+–|\\d+-|\\*|\"|”|;.*| \\(.*\\)|\\(|\\)|½|¾|¼|⅓|⅔|⅛', '', ele) for ele in removed_measurements]\n",
    "    removed_kitchen_words = [re.sub('coarsely |skin.?on | ?fillets?|center.?cut |^boneless |^new$| slices| spears|^heads? o?f? ?|^torn|^and|granulated |^crisp |^tart |^one |^ripe |t.i.*cut |^asian$|fresh |leaves|skinless|cloves?|slices?d? |with .*stems|chilled |chopped |online|finely |at .* markets.*|from a .*|grated |freshly |peeled |sprigs |pestle|such as .*|other |bar spoon |finely chopped|low.?sodium ', '', ele) for ele in removed_num]\n",
    "    removed_measurements = [re.sub('\\d+|cups? |^dash |oz |^lb |bottle |^liter | is a .*| threads$|^like |^scoops? |cut into.*|^seadless | twist$| zest$|^shell.*on |handful o?f? ?|^bowls$|^clear$|envelope ?|packages? |bunch | stalks$|online|small |medium |large |^shaved |pinch of | cans? |pints? | ?inch pieces? | pieces$|inch.*thick|^inch.* | lengthwise|dashes |^plus |tbsp. |oz. |teaspoons? |tsp |tablespoons? |ounces? |pounds? |^ |^\\n', '', ele) for ele in removed_kitchen_words]\n",
    "    return removed_measurements\n",
    "    \n",
    "def chopIngredients(recipe):\n",
    "    split_lines = [ingred.strip().split(\" or \") if ingred.count(' or ') > 0 else [ingred.strip()] for ingred in recipe]\n",
    "    split_lines = list(chain.from_iterable(split_lines))\n",
    "    second_split_lines = [ingred.split(\" and \") if ingred.count(' and ') > 0 else [ingred] for ingred in split_lines]\n",
    "    second_split_lines = list(chain.from_iterable(second_split_lines))\n",
    "    return second_split_lines\n",
    "\n",
    "def peelIngredients(recipe):\n",
    "    dropped_ingreds = [ingred.strip() for ingred in recipe if ingred != '' and not re.search('^or |^more$|^more for|^for |^a |^find |^ainch|^into|^cut |^about|^any? |^in h|^and/or|^-|^–|^—', ingred)]\n",
    "    dropped_ingreds_set = set(chain.from_iterable(badata['filtered_ingreds']))\n",
    "    new_dropped_ingreds = [ingred + 's' if ingred + 's' in dropped_ingreds_set else ingred + 'es' if ingred + 'es' in dropped_ingreds_set else ingred for ingred in dropped_ingreds]\n",
    "    return new_dropped_ingreds\n",
    "\n",
    "def simmerIngredients(recipe):\n",
    "    ##flattens lemons, black pepper, eggs, olive oil, flour, oranges, pears, kale, anchovies\n",
    "    reduced_ingreds = ['lemon' if re.search('lemons? |lemons?$', ingred) else 'ground black pepper' if \\\n",
    "                       ingred.count('ground pepper') > 0 else 'eggs' if ingred.count('egg ') > 0  else \\\n",
    "                       'lime' if ingred.count('lime') > 0 else 'olive oil' if ingred.count('olive oil') > 0 else \\\n",
    "                       'all-purpose flour' if re.search('all.* flour', ingred) else 'blood oranges' if \\\n",
    "                       ingred.count('blood orange') > 0 else 'oranges' if re.search(' orange$| orange |orange w|orange .*u', ingred) else \\\n",
    "                       'pears' if re.search(' ?pears?$', ingred) else 'kale' if re.search(' kale', ingred) \\\n",
    "                       else 'anchovy fillets' if ingred.count('anchovy') > 0 else ingred for ingred in recipe ]\n",
    "    repeated_ingreds = list(set(reduced_ingreds))\n",
    "    return repeated_ingreds"
   ]
  },
  {
   "cell_type": "code",
   "execution_count": 18,
   "metadata": {},
   "outputs": [],
   "source": [
    "badata[\"filtered_ingreds\"] = badata[\"ingredients\"].copy()\n",
    "badata['filtered_ingreds'] = badata['filtered_ingreds'].apply(washIngredients)\n",
    "badata['filtered_ingreds'] = badata['filtered_ingreds'].apply(chopIngredients)\n",
    "badata['filtered_ingreds'] = badata['filtered_ingreds'].apply(washIngredients)\n",
    "badata['filtered_ingreds'] = badata['filtered_ingreds'].apply(peelIngredients)\n",
    "badata['filtered_ingreds'] = badata['filtered_ingreds'].apply(simmerIngredients)"
   ]
  },
  {
   "cell_type": "markdown",
   "metadata": {},
   "source": [
    "## Expanding of Dataframe to Ingredients\n",
    "**This will zip recipe titles for each of their ingredients** \n",
    "\n",
    "Results in `df_ingred` dataframe"
   ]
  },
  {
   "cell_type": "code",
   "execution_count": 20,
   "metadata": {},
   "outputs": [],
   "source": [
    "df_ingred = badata.copy()\n",
    "\n",
    "index=0\n",
    "list_ = []\n",
    "for item in df_ingred.filtered_ingreds:\n",
    "    list_.extend(map(lambda x: [index, x], item))\n",
    "    index += 1\n",
    "mini_ingred = pd.DataFrame(list_, columns=['index', 'ingred'])\n",
    "df_ingred = pd.merge(df_ingred.drop('filtered_ingreds', axis = 1), mini_ingred, \\\n",
    "                     how=\"right\", left_index=True, right_on='index')\n",
    "df_ingred = df_ingred.drop([\"ingredients\", \"instructions\", 'index'], axis=1).sort_values(['published', \"dishtitle\"]).reset_index()\n",
    "df_ingred.columns = df_ingred.columns.str.lower()"
   ]
  },
  {
   "cell_type": "code",
   "execution_count": 21,
   "metadata": {},
   "outputs": [],
   "source": [
    "df_ingred.to_csv(r\"./Bon_App_Shiny/data/bonapp_df.csv\")"
   ]
  },
  {
   "cell_type": "code",
   "execution_count": 22,
   "metadata": {},
   "outputs": [],
   "source": [
    "badata.to_csv(r\"./Bon_App_Shiny/data/full_bonapp_df.csv\")"
   ]
  },
  {
   "cell_type": "markdown",
   "metadata": {},
   "source": [
    "## Parse Reviews\n",
    "**This will use NPL to filter unnecessary words, and frequency count remaining words**"
   ]
  },
  {
   "cell_type": "code",
   "execution_count": null,
   "metadata": {},
   "outputs": [],
   "source": [
    "## Did not get to, would like to return to at a later date"
   ]
  },
  {
   "cell_type": "markdown",
   "metadata": {},
   "source": [
    "### Beginning Plots"
   ]
  },
  {
   "cell_type": "code",
   "execution_count": null,
   "metadata": {},
   "outputs": [],
   "source": [
    "# df_ingred.groupby('ingred')[['dishtitle']].count().sort_values(by='dishtitle', ascending=False)[:20]"
   ]
  },
  {
   "cell_type": "code",
   "execution_count": null,
   "metadata": {},
   "outputs": [],
   "source": [
    "# df_ingred.groupby('ingred')[['dishtitle']].count().sort_values(by='dishtitle')[100:130]"
   ]
  },
  {
   "cell_type": "code",
   "execution_count": null,
   "metadata": {
    "scrolled": true
   },
   "outputs": [],
   "source": [
    "plt.hist(badata['Published'])"
   ]
  },
  {
   "cell_type": "code",
   "execution_count": null,
   "metadata": {},
   "outputs": [],
   "source": [
    "df_2020 = (badata[(badata['Published'] > pd.to_datetime(\"2019-12-01\"))])\n",
    "plt.hist(df_2020['Published'])"
   ]
  },
  {
   "cell_type": "code",
   "execution_count": null,
   "metadata": {
    "scrolled": true
   },
   "outputs": [],
   "source": [
    "import plotly\n",
    "plotly.offline.init_notebook_mode(connected=True)\n",
    "from plotly.graph_objs import Figure, Histogram, Layout\n",
    "\n",
    "min_ = df_2020['Published'].min()\n",
    "max_ = df_2020['Published'].max()\n",
    "\n",
    "data = [Histogram(x=df_2020['Published'], \n",
    "                  xbins=dict(start=min_,\n",
    "                             end=max_))]\n",
    "                             #size=(max_-min_)/2))]\n",
    "layout = Layout(title=\"Histogram of March Recipes\",\n",
    "                bargap=0.20)\n",
    "fig = Figure(data=data, layout=layout)\n",
    "\n",
    "plotly.offline.iplot(fig, show_link=False, image_width=600, image_height=400)"
   ]
  },
  {
   "cell_type": "code",
   "execution_count": null,
   "metadata": {},
   "outputs": [],
   "source": [
    "from plotly.graph_objs import Scatter\n",
    "\n",
    "data = [Scatter(x=badata['Published'], y=badata['Rating'], mode = 'markers')]#, text=df['movie_title'])]\n",
    "layout = Layout(title=\"Gross Income vs Budget\")\n",
    "\n",
    "fig = Figure(data=data, layout=layout)\n",
    "\n",
    "plotly.offline.iplot(fig, show_link=False)"
   ]
  },
  {
   "cell_type": "code",
   "execution_count": null,
   "metadata": {
    "scrolled": true
   },
   "outputs": [],
   "source": [
    "df_ingred.groupby('published')['rating'].mean().plot()"
   ]
  },
  {
   "cell_type": "code",
   "execution_count": null,
   "metadata": {},
   "outputs": [],
   "source": [
    "df_ingred.groupby('published')['rating'].count().plot()"
   ]
  },
  {
   "cell_type": "code",
   "execution_count": null,
   "metadata": {},
   "outputs": [],
   "source": [
    "df_ingred.groupby('published')['ingred'].count().plot()"
   ]
  },
  {
   "cell_type": "code",
   "execution_count": null,
   "metadata": {
    "scrolled": true
   },
   "outputs": [],
   "source": [
    "df_ingred.loc[df_ingred['ingred'] == 'kale'].groupby('published')['dishtitle'].count().plot()"
   ]
  },
  {
   "cell_type": "code",
   "execution_count": null,
   "metadata": {},
   "outputs": [],
   "source": [
    "badata.loc[badata[\"Rating\"] > 4].groupby('Published')['DishTitle'].count().plot()"
   ]
  },
  {
   "cell_type": "code",
   "execution_count": null,
   "metadata": {},
   "outputs": [],
   "source": [
    "sns.distplot(badata['Rating'])"
   ]
  },
  {
   "cell_type": "code",
   "execution_count": null,
   "metadata": {
    "scrolled": true
   },
   "outputs": [],
   "source": [
    "plt.hist(badata['Published'], bins=60)\n",
    "plt.xlabel('Year of Publication')\n",
    "plt.ylabel('Count')\n",
    "plt.title('Histogram of Recipes from 2015 - 2020', fontsize=20)"
   ]
  },
  {
   "cell_type": "code",
   "execution_count": null,
   "metadata": {},
   "outputs": [],
   "source": [
    "plt.scatter(badata['Published'], badata[\"Rating\"], alpha=.5)\n",
    "plt.xlabel('2015 Months')\n",
    "plt.ylabel('Ratings')\n",
    "plt.title('Scatterplot of Rating per Month, 2015', fontsize=20)"
   ]
  }
 ],
 "metadata": {
  "kernelspec": {
   "display_name": "Python 3",
   "language": "python",
   "name": "python3"
  },
  "language_info": {
   "codemirror_mode": {
    "name": "ipython",
    "version": 3
   },
   "file_extension": ".py",
   "mimetype": "text/x-python",
   "name": "python",
   "nbconvert_exporter": "python",
   "pygments_lexer": "ipython3",
   "version": "3.7.6"
  }
 },
 "nbformat": 4,
 "nbformat_minor": 4
}
