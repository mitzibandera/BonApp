{
 "cells": [
  {
   "cell_type": "markdown",
   "metadata": {},
   "source": [
    "# Import Data"
   ]
  },
  {
   "cell_type": "code",
   "execution_count": 81,
   "metadata": {},
   "outputs": [],
   "source": [
    "import pandas as pd\n",
    "import numpy as np\n",
    "import seaborn as sns\n",
    "import re\n",
    "from matplotlib import pyplot as plt\n",
    "plt.style.use('ggplot')"
   ]
  },
  {
   "cell_type": "code",
   "execution_count": 397,
   "metadata": {
    "scrolled": true
   },
   "outputs": [
    {
     "data": {
      "text/html": [
       "<div>\n",
       "<style scoped>\n",
       "    .dataframe tbody tr th:only-of-type {\n",
       "        vertical-align: middle;\n",
       "    }\n",
       "\n",
       "    .dataframe tbody tr th {\n",
       "        vertical-align: top;\n",
       "    }\n",
       "\n",
       "    .dataframe thead th {\n",
       "        text-align: right;\n",
       "    }\n",
       "</style>\n",
       "<table border=\"1\" class=\"dataframe\">\n",
       "  <thead>\n",
       "    <tr style=\"text-align: right;\">\n",
       "      <th></th>\n",
       "      <th>DishTitle</th>\n",
       "      <th>Ingredients</th>\n",
       "      <th>Instructions</th>\n",
       "      <th>Published</th>\n",
       "      <th>Rating</th>\n",
       "      <th>Reviews</th>\n",
       "      <th>filtered_Ingreds</th>\n",
       "    </tr>\n",
       "  </thead>\n",
       "  <tbody>\n",
       "    <tr>\n",
       "      <th>0</th>\n",
       "      <td>Smoked Salmon Breakfast Salad with Crispbread</td>\n",
       "      <td>[2 baby beets or radishes,  thinly sliced, 8 t...</td>\n",
       "      <td>Toss beets, onion (if using), mesclun, lemon j...</td>\n",
       "      <td>2015-01-01</td>\n",
       "      <td>4.5</td>\n",
       "      <td>NaN</td>\n",
       "      <td>[baby beets or radishes, thin slices red onion...</td>\n",
       "    </tr>\n",
       "    <tr>\n",
       "      <th>1</th>\n",
       "      <td>Trout Roe and Turnip Toast</td>\n",
       "      <td>[Dark rye bread, Cream cheese, Trout roe, Baby...</td>\n",
       "      <td>Spread toasted dark rye bread with cream chees...</td>\n",
       "      <td>2015-01-01</td>\n",
       "      <td>3.0</td>\n",
       "      <td>NaN</td>\n",
       "      <td>[Dark rye bread, Cream cheese, Trout roe, Baby...</td>\n",
       "    </tr>\n",
       "    <tr>\n",
       "      <th>2</th>\n",
       "      <td>Beets with Goat Cheese, Nigella Seeds, and Pis...</td>\n",
       "      <td>[2 tablespoons chopped raw pistachios, ¼ cup p...</td>\n",
       "      <td>Toast pistachios in a dry small skillet over m...</td>\n",
       "      <td>2015-01-01</td>\n",
       "      <td>3.3</td>\n",
       "      <td>NaN</td>\n",
       "      <td>[chopped raw pistachios, white wine vinegar, h...</td>\n",
       "    </tr>\n",
       "    <tr>\n",
       "      <th>3</th>\n",
       "      <td>Sazerac</td>\n",
       "      <td>[1 sugar cube, 2 dashes Angostura bitters, 2 d...</td>\n",
       "      <td>Place sugar cube in a mixing glass. Add Angost...</td>\n",
       "      <td>2015-10-01</td>\n",
       "      <td>5.0</td>\n",
       "      <td>NaN</td>\n",
       "      <td>[sugar cube, Angostura bitters, Peychaud’s bit...</td>\n",
       "    </tr>\n",
       "    <tr>\n",
       "      <th>4</th>\n",
       "      <td>Daiquiri</td>\n",
       "      <td>[1 bar spoon (or 1 teaspoon) superfine sugar, ...</td>\n",
       "      <td>Combine sugar, rum, lime juice, and simple syr...</td>\n",
       "      <td>2015-10-01</td>\n",
       "      <td>NaN</td>\n",
       "      <td>What is the purpose of using both sugar and si...</td>\n",
       "      <td>[superfine sugar, white rum, fresh lime juice,...</td>\n",
       "    </tr>\n",
       "  </tbody>\n",
       "</table>\n",
       "</div>"
      ],
      "text/plain": [
       "                                           DishTitle  \\\n",
       "0      Smoked Salmon Breakfast Salad with Crispbread   \n",
       "1                         Trout Roe and Turnip Toast   \n",
       "2  Beets with Goat Cheese, Nigella Seeds, and Pis...   \n",
       "3                                            Sazerac   \n",
       "4                                           Daiquiri   \n",
       "\n",
       "                                         Ingredients  \\\n",
       "0  [2 baby beets or radishes,  thinly sliced, 8 t...   \n",
       "1  [Dark rye bread, Cream cheese, Trout roe, Baby...   \n",
       "2  [2 tablespoons chopped raw pistachios, ¼ cup p...   \n",
       "3  [1 sugar cube, 2 dashes Angostura bitters, 2 d...   \n",
       "4  [1 bar spoon (or 1 teaspoon) superfine sugar, ...   \n",
       "\n",
       "                                        Instructions  Published  Rating  \\\n",
       "0  Toss beets, onion (if using), mesclun, lemon j... 2015-01-01     4.5   \n",
       "1  Spread toasted dark rye bread with cream chees... 2015-01-01     3.0   \n",
       "2  Toast pistachios in a dry small skillet over m... 2015-01-01     3.3   \n",
       "3  Place sugar cube in a mixing glass. Add Angost... 2015-10-01     5.0   \n",
       "4  Combine sugar, rum, lime juice, and simple syr... 2015-10-01     NaN   \n",
       "\n",
       "                                             Reviews  \\\n",
       "0                                                NaN   \n",
       "1                                                NaN   \n",
       "2                                                NaN   \n",
       "3                                                NaN   \n",
       "4  What is the purpose of using both sugar and si...   \n",
       "\n",
       "                                    filtered_Ingreds  \n",
       "0  [baby beets or radishes, thin slices red onion...  \n",
       "1  [Dark rye bread, Cream cheese, Trout roe, Baby...  \n",
       "2  [chopped raw pistachios, white wine vinegar, h...  \n",
       "3  [sugar cube, Angostura bitters, Peychaud’s bit...  \n",
       "4  [superfine sugar, white rum, fresh lime juice,...  "
      ]
     },
     "execution_count": 397,
     "metadata": {},
     "output_type": "execute_result"
    }
   ],
   "source": [
    "# badata = pd.read_csv('improvedlargerbonapp.csv')\n",
    "# badata['Published'] = pd.to_datetime(badata['Published'])\n",
    "# badata[\"Ingredients\"] = badata[\"Ingredients\"].apply(lambda x: x.split(','))\n",
    "badata[\"filtered_Ingreds\"] = badata[\"Ingredients\"].copy()\n",
    "badata['filtered_Ingreds'] = badata['filtered_Ingreds'].apply(fixIngred)\n",
    "badata['filtered_Ingreds'] = badata['filtered_Ingreds'].apply(fixIngred)\n",
    "badata.head()"
   ]
  },
  {
   "cell_type": "markdown",
   "metadata": {},
   "source": [
    "### Beginning Plots"
   ]
  },
  {
   "cell_type": "code",
   "execution_count": 95,
   "metadata": {},
   "outputs": [],
   "source": [
    "# sns.distplot(badata['Rating'])"
   ]
  },
  {
   "cell_type": "code",
   "execution_count": 96,
   "metadata": {
    "scrolled": true
   },
   "outputs": [],
   "source": [
    "# plt.hist(badata['Published'])\n",
    "# plt.xlabel('2015 Months')\n",
    "# plt.ylabel('Count')\n",
    "# plt.title('Histogram of Recipes per Month, 2015', fontsize=20)"
   ]
  },
  {
   "cell_type": "code",
   "execution_count": 97,
   "metadata": {},
   "outputs": [],
   "source": [
    "# plt.scatter(badata['Published'], badata[\"Rating\"], alpha=.5)\n",
    "# plt.xlabel('2015 Months')\n",
    "# plt.ylabel('Ratings')\n",
    "# plt.title('Scatterplot of Rating per Month, 2015', fontsize=20)"
   ]
  },
  {
   "cell_type": "markdown",
   "metadata": {},
   "source": [
    "## Parse  and Clean Ingredients\n",
    "**This creates a new column with cleaned ingredients**"
   ]
  },
  {
   "cell_type": "code",
   "execution_count": 396,
   "metadata": {},
   "outputs": [],
   "source": [
    "def fixIngred(recipe):\n",
    "        trimmed_lines = [ingred for ingred in recipe if not re.search('^preferably from |boneless$|^sliced crosswise into .*|^broken into|room temperature|^cut into|^plus more ?f?o?r? ?.*|ed$', ingred)]\n",
    "        removed_num = [re.sub('\\d+/?\\d* \\d*-?|\\d*-?—?–\\d+ |\\*| \\(.*\\)|\\d?½ |\\d*¾ |\\d?¼ |\\d?⅓ |\\d?⅔', '', ele) for ele in trimmed_lines]\n",
    "        removed_measurements = [re.sub('cups? |cans? |pints? |inch pieces? | lengthwise|dashes |^plus |bar spoon |Tbsp. |oz. |finely chopped|teaspoons? ?|tablespoons? |ounces? |pounds? |^ ', '', ele) for ele in removed_num]\n",
    "        return removed_measurements"
   ]
  },
  {
   "cell_type": "code",
   "execution_count": 413,
   "metadata": {},
   "outputs": [
    {
     "data": {
      "text/plain": [
       "str"
      ]
     },
     "execution_count": 413,
     "metadata": {},
     "output_type": "execute_result"
    }
   ],
   "source": [
    "type('⅔')"
   ]
  },
  {
   "cell_type": "markdown",
   "metadata": {},
   "source": [
    "## Clean Ingredients\n",
    "**This space is to test cleaned ingredients**"
   ]
  },
  {
   "cell_type": "code",
   "execution_count": 411,
   "metadata": {},
   "outputs": [],
   "source": [
    "# badata.filtered_Ingreds.sample()"
   ]
  },
  {
   "cell_type": "code",
   "execution_count": 410,
   "metadata": {
    "scrolled": true
   },
   "outputs": [],
   "source": [
    "# badata.filtered_Ingreds[359]"
   ]
  },
  {
   "cell_type": "code",
   "execution_count": 409,
   "metadata": {
    "scrolled": true
   },
   "outputs": [],
   "source": [
    "# badata.Ingredients[359]"
   ]
  },
  {
   "cell_type": "markdown",
   "metadata": {},
   "source": [
    "## Expanding of Dataframe to Ingredients\n",
    "**This will zip and repeat recipe titles for each of their ingredients**"
   ]
  },
  {
   "cell_type": "code",
   "execution_count": null,
   "metadata": {},
   "outputs": [],
   "source": []
  },
  {
   "cell_type": "code",
   "execution_count": null,
   "metadata": {},
   "outputs": [],
   "source": []
  },
  {
   "cell_type": "markdown",
   "metadata": {},
   "source": [
    "## Parse Reviews\n",
    "**This will use NPL to filter unnecessary words, and frequency count remaining words**"
   ]
  },
  {
   "cell_type": "code",
   "execution_count": null,
   "metadata": {},
   "outputs": [],
   "source": []
  },
  {
   "cell_type": "code",
   "execution_count": null,
   "metadata": {},
   "outputs": [],
   "source": []
  },
  {
   "cell_type": "markdown",
   "metadata": {},
   "source": [
    "## Analyze Adjustments in Covid Recipes"
   ]
  },
  {
   "cell_type": "code",
   "execution_count": null,
   "metadata": {},
   "outputs": [],
   "source": []
  }
 ],
 "metadata": {
  "kernelspec": {
   "display_name": "Python 3",
   "language": "python",
   "name": "python3"
  },
  "language_info": {
   "codemirror_mode": {
    "name": "ipython",
    "version": 3
   },
   "file_extension": ".py",
   "mimetype": "text/x-python",
   "name": "python",
   "nbconvert_exporter": "python",
   "pygments_lexer": "ipython3",
   "version": "3.7.6"
  }
 },
 "nbformat": 4,
 "nbformat_minor": 4
}
